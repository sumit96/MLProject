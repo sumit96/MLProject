{
 "cells": [
  {
   "cell_type": "code",
   "execution_count": 4,
   "id": "2f7bd129",
   "metadata": {},
   "outputs": [
    {
     "data": {
      "text/plain": [
       "2"
      ]
     },
     "execution_count": 4,
     "metadata": {},
     "output_type": "execute_result"
    }
   ],
   "source": [
    "#Add Operator\n",
    "1+1"
   ]
  },
  {
   "cell_type": "code",
   "execution_count": 3,
   "id": "f573c842",
   "metadata": {},
   "outputs": [
    {
     "data": {
      "text/plain": [
       "15"
      ]
     },
     "execution_count": 3,
     "metadata": {},
     "output_type": "execute_result"
    }
   ],
   "source": [
    "#Multiplication Operator\n",
    "3*5"
   ]
  },
  {
   "cell_type": "code",
   "execution_count": 5,
   "id": "8078dc66",
   "metadata": {},
   "outputs": [
    {
     "data": {
      "text/plain": [
       "5.0"
      ]
     },
     "execution_count": 5,
     "metadata": {},
     "output_type": "execute_result"
    }
   ],
   "source": [
    "#Dividisible Operator\n",
    "10/2"
   ]
  },
  {
   "cell_type": "code",
   "execution_count": 8,
   "id": "d7103cb9",
   "metadata": {},
   "outputs": [
    {
     "data": {
      "text/plain": [
       "125"
      ]
     },
     "execution_count": 8,
     "metadata": {},
     "output_type": "execute_result"
    }
   ],
   "source": [
    "#Expoential Operator\n",
    "5 ** 3"
   ]
  },
  {
   "cell_type": "code",
   "execution_count": 9,
   "id": "1d42a89d",
   "metadata": {},
   "outputs": [
    {
     "data": {
      "text/plain": [
       "27"
      ]
     },
     "execution_count": 9,
     "metadata": {},
     "output_type": "execute_result"
    }
   ],
   "source": [
    "#order operation\n",
    "2+4 * 5+5"
   ]
  },
  {
   "cell_type": "code",
   "execution_count": 10,
   "id": "28aaaf5d",
   "metadata": {},
   "outputs": [
    {
     "data": {
      "text/plain": [
       "60"
      ]
     },
     "execution_count": 10,
     "metadata": {},
     "output_type": "execute_result"
    }
   ],
   "source": [
    "(2+4)*(5+5)"
   ]
  },
  {
   "cell_type": "code",
   "execution_count": 13,
   "id": "68c11521",
   "metadata": {},
   "outputs": [
    {
     "data": {
      "text/plain": [
       "2"
      ]
     },
     "execution_count": 13,
     "metadata": {},
     "output_type": "execute_result"
    }
   ],
   "source": [
    "#Modulus Operator\n",
    "8%3"
   ]
  },
  {
   "cell_type": "code",
   "execution_count": 14,
   "id": "623e56f1",
   "metadata": {},
   "outputs": [
    {
     "name": "stdout",
     "output_type": "stream",
     "text": [
      "Hello Python\n"
     ]
    }
   ],
   "source": [
    "#print Statement1\n",
    "msg='Hello Python'\n",
    "print(msg)"
   ]
  },
  {
   "cell_type": "code",
   "execution_count": 15,
   "id": "6e769ff4",
   "metadata": {},
   "outputs": [
    {
     "name": "stdout",
     "output_type": "stream",
     "text": [
      "My name is Sumit and my number is 1\n"
     ]
    }
   ],
   "source": [
    "#print Statement2\n",
    "num = 1\n",
    "name = 'Sumit'\n",
    "print('My name is {} and my number is {}'.format(name,num))"
   ]
  },
  {
   "cell_type": "code",
   "execution_count": 40,
   "id": "1976381e",
   "metadata": {},
   "outputs": [
    {
     "name": "stdout",
     "output_type": "stream",
     "text": [
      "My name is Sumit and my number is 2, more with name Sumit\n"
     ]
    }
   ],
   "source": [
    "#print Statement3\n",
    "print(\"My name is {one} and my number is {two}, more with name {one}\".format(one = name, two= num))"
   ]
  },
  {
   "cell_type": "code",
   "execution_count": 31,
   "id": "428199e1",
   "metadata": {},
   "outputs": [],
   "source": [
    "#variable assignment\n",
    "value = 4"
   ]
  },
  {
   "cell_type": "code",
   "execution_count": 32,
   "id": "23052619",
   "metadata": {},
   "outputs": [
    {
     "data": {
      "text/plain": [
       "4"
      ]
     },
     "execution_count": 32,
     "metadata": {},
     "output_type": "execute_result"
    }
   ],
   "source": [
    "value"
   ]
  },
  {
   "cell_type": "code",
   "execution_count": 33,
   "id": "ad4a8921",
   "metadata": {},
   "outputs": [],
   "source": [
    "value = value + value"
   ]
  },
  {
   "cell_type": "code",
   "execution_count": 34,
   "id": "02918cd2",
   "metadata": {},
   "outputs": [
    {
     "data": {
      "text/plain": [
       "8"
      ]
     },
     "execution_count": 34,
     "metadata": {},
     "output_type": "execute_result"
    }
   ],
   "source": [
    "value"
   ]
  },
  {
   "cell_type": "code",
   "execution_count": 35,
   "id": "120748f6",
   "metadata": {},
   "outputs": [
    {
     "data": {
      "text/plain": [
       "'Single Quote String'"
      ]
     },
     "execution_count": 35,
     "metadata": {},
     "output_type": "execute_result"
    }
   ],
   "source": [
    "#String\n",
    "'Single Quote String'"
   ]
  },
  {
   "cell_type": "code",
   "execution_count": 36,
   "id": "1c892154",
   "metadata": {},
   "outputs": [
    {
     "data": {
      "text/plain": [
       "'Double Quote String'"
      ]
     },
     "execution_count": 36,
     "metadata": {},
     "output_type": "execute_result"
    }
   ],
   "source": [
    "\"Double Quote String\""
   ]
  },
  {
   "cell_type": "code",
   "execution_count": 38,
   "id": "a42c7778",
   "metadata": {},
   "outputs": [
    {
     "data": {
      "text/plain": [
       "\"I can't go\""
      ]
     },
     "execution_count": 38,
     "metadata": {},
     "output_type": "execute_result"
    }
   ],
   "source": [
    "\"I can't go\""
   ]
  },
  {
   "cell_type": "code",
   "execution_count": 42,
   "id": "ec301ed3",
   "metadata": {},
   "outputs": [],
   "source": [
    "#String indexing\n",
    "msg_data= 'Hello Python'"
   ]
  },
  {
   "cell_type": "code",
   "execution_count": 43,
   "id": "acb33c5e",
   "metadata": {},
   "outputs": [
    {
     "data": {
      "text/plain": [
       "'ello Python'"
      ]
     },
     "execution_count": 43,
     "metadata": {},
     "output_type": "execute_result"
    }
   ],
   "source": [
    "msg_data[1:]"
   ]
  },
  {
   "cell_type": "code",
   "execution_count": 44,
   "id": "7385e235",
   "metadata": {},
   "outputs": [
    {
     "data": {
      "text/plain": [
       "'llo Py'"
      ]
     },
     "execution_count": 44,
     "metadata": {},
     "output_type": "execute_result"
    }
   ],
   "source": [
    "msg_data[2:8]"
   ]
  },
  {
   "cell_type": "code",
   "execution_count": 45,
   "id": "5e6a3fe1",
   "metadata": {},
   "outputs": [
    {
     "data": {
      "text/plain": [
       "'Hello '"
      ]
     },
     "execution_count": 45,
     "metadata": {},
     "output_type": "execute_result"
    }
   ],
   "source": [
    "msg_data[:6]"
   ]
  },
  {
   "cell_type": "code",
   "execution_count": 54,
   "id": "e5a1ec6c",
   "metadata": {},
   "outputs": [
    {
     "data": {
      "text/plain": [
       "True"
      ]
     },
     "execution_count": 54,
     "metadata": {},
     "output_type": "execute_result"
    }
   ],
   "source": [
    "#Comparasion Operator\n",
    "1<3\n",
    "30>=10\n",
    "1==1\n",
    "2!=3\n",
    "'hi' == 'bye'\n",
    "1<3 and 9>4\n",
    "1>9 or 10>1 or 20<10"
   ]
  }
 ],
 "metadata": {
  "kernelspec": {
   "display_name": "Python 3 (ipykernel)",
   "language": "python",
   "name": "python3"
  },
  "language_info": {
   "codemirror_mode": {
    "name": "ipython",
    "version": 3
   },
   "file_extension": ".py",
   "mimetype": "text/x-python",
   "name": "python",
   "nbconvert_exporter": "python",
   "pygments_lexer": "ipython3",
   "version": "3.10.1"
  }
 },
 "nbformat": 4,
 "nbformat_minor": 5
}
