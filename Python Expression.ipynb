{
 "cells": [
  {
   "cell_type": "code",
   "execution_count": 2,
   "id": "2cb8451a",
   "metadata": {},
   "outputs": [
    {
     "name": "stdout",
     "output_type": "stream",
     "text": [
      "30\n"
     ]
    }
   ],
   "source": [
    "#function\n",
    "def addOper(num1,num2):\n",
    " num3 = num1+num2\n",
    " return num3\n",
    " \n",
    "print(addOper(10,20))"
   ]
  },
  {
   "cell_type": "code",
   "execution_count": 9,
   "id": "69e6cf52",
   "metadata": {},
   "outputs": [
    {
     "name": "stdout",
     "output_type": "stream",
     "text": [
      "6\n",
      "64\n"
     ]
    },
    {
     "data": {
      "text/plain": [
       "[8, 64, 125, 216, 512]"
      ]
     },
     "execution_count": 9,
     "metadata": {},
     "output_type": "execute_result"
    }
   ],
   "source": [
    "#lambda expression\n",
    "def mulOper(var) : return var *2\n",
    "print(mulOper(3))\n",
    "\n",
    "tax=lambda var : var ** 3\n",
    "print(tax(4))\n",
    "\n",
    "\n",
    "#map\n",
    "seq=[2,4,5,6,8]\n",
    "list(map(lambda num : num ** 3,seq))\n"
   ]
  },
  {
   "cell_type": "code",
   "execution_count": 13,
   "id": "8ddfa0bd",
   "metadata": {},
   "outputs": [
    {
     "data": {
      "text/plain": [
       "[2, 4, 6, 8]"
      ]
     },
     "execution_count": 13,
     "metadata": {},
     "output_type": "execute_result"
    }
   ],
   "source": [
    "#built in filter function\n",
    "list(filter(lambda num : num%2 == 0,seq))"
   ]
  },
  {
   "cell_type": "code",
   "execution_count": 15,
   "id": "42f95528",
   "metadata": {},
   "outputs": [
    {
     "data": {
      "text/plain": [
       "['hello', ' I am trying Python method']"
      ]
     },
     "execution_count": 15,
     "metadata": {},
     "output_type": "execute_result"
    }
   ],
   "source": [
    "#String method\n",
    "str='hello, I am trying Python method'\n",
    "str.upper()\n",
    "str.lower()\n",
    "str.split(',')"
   ]
  },
  {
   "cell_type": "code",
   "execution_count": 22,
   "id": "4fa0a006",
   "metadata": {},
   "outputs": [
    {
     "data": {
      "text/plain": [
       "dict_values(['hello', 'python'])"
      ]
     },
     "execution_count": 22,
     "metadata": {},
     "output_type": "execute_result"
    }
   ],
   "source": [
    "#dictonary method\n",
    "dic ={'k1':'hello','k2':'python'}\n",
    "dic.keys()\n",
    "dic.values()\n",
    "dic.items()"
   ]
  },
  {
   "cell_type": "code",
   "execution_count": 24,
   "id": "5913a13b",
   "metadata": {},
   "outputs": [
    {
     "data": {
      "text/plain": [
       "[2, 22, 920]"
      ]
     },
     "execution_count": 24,
     "metadata": {},
     "output_type": "execute_result"
    }
   ],
   "source": [
    "#list method\n",
    "ls=[2,22,920,20]\n",
    "ls.pop()\n",
    "ls"
   ]
  },
  {
   "cell_type": "code",
   "execution_count": 25,
   "id": "bdfd7dea",
   "metadata": {},
   "outputs": [
    {
     "data": {
      "text/plain": [
       "True"
      ]
     },
     "execution_count": 25,
     "metadata": {},
     "output_type": "execute_result"
    }
   ],
   "source": [
    "#In Operator\n",
    "'Sumit' in ['Sumit', 'Ajay', 'Anil']"
   ]
  },
  {
   "cell_type": "code",
   "execution_count": 37,
   "id": "d46ee302",
   "metadata": {},
   "outputs": [
    {
     "name": "stdout",
     "output_type": "stream",
     "text": [
      "2\n",
      "4\n",
      "b\n"
     ]
    }
   ],
   "source": [
    "#Tuple Unpacking\n",
    "tup=[(1,2),(3,4),('a','b')]\n",
    "for a,b in tup:\n",
    "    print(b)\n",
    "  "
   ]
  }
 ],
 "metadata": {
  "kernelspec": {
   "display_name": "Python 3 (ipykernel)",
   "language": "python",
   "name": "python3"
  },
  "language_info": {
   "codemirror_mode": {
    "name": "ipython",
    "version": 3
   },
   "file_extension": ".py",
   "mimetype": "text/x-python",
   "name": "python",
   "nbconvert_exporter": "python",
   "pygments_lexer": "ipython3",
   "version": "3.10.1"
  }
 },
 "nbformat": 4,
 "nbformat_minor": 5
}
