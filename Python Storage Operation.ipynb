{
 "cells": [
  {
   "cell_type": "code",
   "execution_count": 1,
   "id": "335d46d2",
   "metadata": {},
   "outputs": [
    {
     "data": {
      "text/plain": [
       "[1, 2, 3, 6, 'Sumit']"
      ]
     },
     "execution_count": 1,
     "metadata": {},
     "output_type": "execute_result"
    }
   ],
   "source": [
    "#List\n",
    "[1,2,3,6,'Sumit']"
   ]
  },
  {
   "cell_type": "code",
   "execution_count": 4,
   "id": "ed68c6af",
   "metadata": {},
   "outputs": [],
   "source": [
    "mylist = [49,95,3,40]"
   ]
  },
  {
   "cell_type": "code",
   "execution_count": 7,
   "id": "1b808060",
   "metadata": {},
   "outputs": [],
   "source": [
    "mylist.append('data')"
   ]
  },
  {
   "cell_type": "code",
   "execution_count": 8,
   "id": "1e408808",
   "metadata": {},
   "outputs": [
    {
     "data": {
      "text/plain": [
       "[49, 95, 3, 40, 'data']"
      ]
     },
     "execution_count": 8,
     "metadata": {},
     "output_type": "execute_result"
    }
   ],
   "source": [
    "mylist"
   ]
  },
  {
   "cell_type": "code",
   "execution_count": 11,
   "id": "e858b676",
   "metadata": {},
   "outputs": [
    {
     "data": {
      "text/plain": [
       "[3, 40]"
      ]
     },
     "execution_count": 11,
     "metadata": {},
     "output_type": "execute_result"
    }
   ],
   "source": [
    "mylist[2:4]"
   ]
  },
  {
   "cell_type": "code",
   "execution_count": 22,
   "id": "01f5e6b9",
   "metadata": {},
   "outputs": [],
   "source": [
    "#nested List\n",
    "nestlist=[1,5,7,['Sumit', 'Ajay',['Python','Android']]]"
   ]
  },
  {
   "cell_type": "code",
   "execution_count": 23,
   "id": "c2d8865e",
   "metadata": {},
   "outputs": [
    {
     "data": {
      "text/plain": [
       "'Python'"
      ]
     },
     "execution_count": 23,
     "metadata": {},
     "output_type": "execute_result"
    }
   ],
   "source": [
    "nestlist[3][2][0]"
   ]
  },
  {
   "cell_type": "code",
   "execution_count": 27,
   "id": "9bba44f5",
   "metadata": {},
   "outputs": [],
   "source": [
    "#Dictonary behave as hash Table\n",
    "dic={'key1':'value', 'key2':520}"
   ]
  },
  {
   "cell_type": "code",
   "execution_count": 28,
   "id": "ec69c1d5",
   "metadata": {},
   "outputs": [
    {
     "data": {
      "text/plain": [
       "'value'"
      ]
     },
     "execution_count": 28,
     "metadata": {},
     "output_type": "execute_result"
    }
   ],
   "source": [
    "dic['key1']"
   ]
  },
  {
   "cell_type": "code",
   "execution_count": 29,
   "id": "f157a396",
   "metadata": {},
   "outputs": [
    {
     "data": {
      "text/plain": [
       "20"
      ]
     },
     "execution_count": 29,
     "metadata": {},
     "output_type": "execute_result"
    }
   ],
   "source": [
    "dicN={'k1':[10,20,33]}\n",
    "dicN['k1'][1]"
   ]
  },
  {
   "cell_type": "code",
   "execution_count": 32,
   "id": "30e46a0b",
   "metadata": {},
   "outputs": [
    {
     "data": {
      "text/plain": [
       "20"
      ]
     },
     "execution_count": 32,
     "metadata": {},
     "output_type": "execute_result"
    }
   ],
   "source": [
    "nestDic={'k2':{'innerkey':[92,10,20]}}\n",
    "nestDic['k2']['innerkey'][2]"
   ]
  },
  {
   "cell_type": "code",
   "execution_count": 36,
   "id": "1c61f771",
   "metadata": {},
   "outputs": [
    {
     "data": {
      "text/plain": [
       "'Sumit'"
      ]
     },
     "execution_count": 36,
     "metadata": {},
     "output_type": "execute_result"
    }
   ],
   "source": [
    "#Tuple : its Immutable\n",
    "tup=(10,'Sumit',98,20)\n",
    "tup[1]\n",
    "#tup[1]='puri' can't update the tuple"
   ]
  },
  {
   "cell_type": "code",
   "execution_count": 37,
   "id": "20421197",
   "metadata": {},
   "outputs": [
    {
     "data": {
      "text/plain": [
       "{1, 4, 9, 10}"
      ]
     },
     "execution_count": 37,
     "metadata": {},
     "output_type": "execute_result"
    }
   ],
   "source": [
    "#Set : data can't be duplicate\n",
    "{1,9,9,1,10,10,4}"
   ]
  },
  {
   "cell_type": "code",
   "execution_count": 38,
   "id": "8b56ce2e",
   "metadata": {},
   "outputs": [
    {
     "data": {
      "text/plain": [
       "{10, 11, 12, 13, 14, 19}"
      ]
     },
     "execution_count": 38,
     "metadata": {},
     "output_type": "execute_result"
    }
   ],
   "source": [
    "#List in Set\n",
    "set([19,19,19,10,11,12,13,13,14])"
   ]
  },
  {
   "cell_type": "code",
   "execution_count": 40,
   "id": "82409e34",
   "metadata": {},
   "outputs": [
    {
     "name": "stdout",
     "output_type": "stream",
     "text": [
      "{1, 10, 18, 20, 'sumit'}\n"
     ]
    }
   ],
   "source": [
    "s={1,20,10,18,18}\n",
    "s.add('sumit')\n",
    "print(s)"
   ]
  },
  {
   "cell_type": "code",
   "execution_count": null,
   "id": "b724566c",
   "metadata": {},
   "outputs": [],
   "source": []
  }
 ],
 "metadata": {
  "kernelspec": {
   "display_name": "Python 3 (ipykernel)",
   "language": "python",
   "name": "python3"
  },
  "language_info": {
   "codemirror_mode": {
    "name": "ipython",
    "version": 3
   },
   "file_extension": ".py",
   "mimetype": "text/x-python",
   "name": "python",
   "nbconvert_exporter": "python",
   "pygments_lexer": "ipython3",
   "version": "3.10.1"
  }
 },
 "nbformat": 4,
 "nbformat_minor": 5
}
